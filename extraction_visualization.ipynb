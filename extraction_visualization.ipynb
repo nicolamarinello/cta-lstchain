{
 "cells": [
  {
   "cell_type": "code",
   "execution_count": 170,
   "metadata": {},
   "outputs": [],
   "source": [
    "import tables\n",
    "import matplotlib.pyplot as plt\n",
    "%matplotlib inline"
   ]
  },
  {
   "cell_type": "code",
   "execution_count": 136,
   "metadata": {},
   "outputs": [],
   "source": [
    "# sample proton data\n",
    "data_path = '/Users/nicolamarinello/ctasoft/simulations/Paranal_proton_North_20deg_3HB9_DL1_ML1/proton_20deg_0deg_srun13316-33715___cta-prod3_desert-2150m-Paranal-HB9.h5'\n",
    "data = tables.open_file(data_path)\n",
    "\n",
    "# sample gamma-ray data\n",
    "#data_g_path = '/Users/nicolamarinello/ctasoft/simulations/Paranal_gamma-diffuse_North_20deg_3HB9_DL1_ML1/gamma_20deg_0deg_srun5865-23126___cta-prod3_desert-2150m-Paranal-HB9_cone10.h5'\n",
    "#data_g = tables.open_file(data_g_path)"
   ]
  },
  {
   "cell_type": "code",
   "execution_count": 137,
   "metadata": {},
   "outputs": [
    {
     "name": "stdout",
     "output_type": "stream",
     "text": [
      "/Array_Info (Table(289,)) 'Table of array data'\n",
      "  description := {\n",
      "  \"run_array_direction\": Float32Col(shape=(2,), dflt=0.0, pos=0),\n",
      "  \"tel_id\": UInt8Col(shape=(), dflt=0, pos=1),\n",
      "  \"tel_type\": StringCol(itemsize=8, shape=(), dflt=b'', pos=2),\n",
      "  \"tel_x\": Float32Col(shape=(), dflt=0.0, pos=3),\n",
      "  \"tel_y\": Float32Col(shape=(), dflt=0.0, pos=4),\n",
      "  \"tel_z\": Float32Col(shape=(), dflt=0.0, pos=5)}\n",
      "  byteorder := 'little'\n",
      "  chunkshape := (2259,)\n",
      "/Event_Info (Table(3023,)) 'Table of Events'\n",
      "  description := {\n",
      "  \"alt\": Float32Col(shape=(), dflt=0.0, pos=0),\n",
      "  \"az\": Float32Col(shape=(), dflt=0.0, pos=1),\n",
      "  \"core_x\": Float32Col(shape=(), dflt=0.0, pos=2),\n",
      "  \"core_y\": Float32Col(shape=(), dflt=0.0, pos=3),\n",
      "  \"event_number\": UInt32Col(shape=(), dflt=0, pos=4),\n",
      "  \"h_first_int\": Float32Col(shape=(), dflt=0.0, pos=5),\n",
      "  \"mc_energy\": Float32Col(shape=(), dflt=0.0, pos=6),\n",
      "  \"particle_id\": UInt8Col(shape=(), dflt=0, pos=7),\n",
      "  \"run_number\": UInt32Col(shape=(), dflt=0, pos=8),\n",
      "  \"LST_indices\": Int32Col(shape=(4,), dflt=0, pos=9),\n",
      "  \"MSTF_indices\": Int32Col(shape=(25,), dflt=0, pos=10),\n",
      "  \"MSTN_indices\": Int32Col(shape=(25,), dflt=0, pos=11),\n",
      "  \"MSTS_indices\": Int32Col(shape=(25,), dflt=0, pos=12),\n",
      "  \"SST1_indices\": Int32Col(shape=(70,), dflt=0, pos=13),\n",
      "  \"SSTA_indices\": Int32Col(shape=(70,), dflt=0, pos=14),\n",
      "  \"SSTC_indices\": Int32Col(shape=(70,), dflt=0, pos=15)}\n",
      "  byteorder := 'little'\n",
      "  chunkshape := (110,)\n",
      "/LST (Table(1507,)) 'Table of LST images'\n",
      "  description := {\n",
      "  \"event_index\": Int32Col(shape=(), dflt=0, pos=0),\n",
      "  \"image_charge\": Float32Col(shape=(1855,), dflt=0.0, pos=1),\n",
      "  \"image_peak_times\": Float32Col(shape=(1855,), dflt=0.0, pos=2)}\n",
      "  byteorder := 'little'\n",
      "  chunkshape := (17,)\n",
      "Int32Col(shape=(), dflt=0, pos=0)\n",
      "Float32Col(shape=(1855,), dflt=0.0, pos=1)\n",
      "Float32Col(shape=(1855,), dflt=0.0, pos=2)\n",
      "StringCol(itemsize=8, shape=(), dflt=b'', pos=2)\n"
     ]
    }
   ],
   "source": [
    "data_ainfo = data.root.Array_Info\n",
    "data_einfo = data.root.Event_Info\n",
    "data_LST = data.root.LST\n",
    "\n",
    "print(repr(data_ainfo))\n",
    "print(repr(data_einfo))\n",
    "print(repr(data_LST))\n",
    "\n",
    "print(data_LST.description.event_index)\n",
    "print(data_LST.description.image_charge)\n",
    "print(data_LST.description.image_peak_times)\n",
    "print(data_ainfo.description.tel_type)"
   ]
  },
  {
   "cell_type": "code",
   "execution_count": 151,
   "metadata": {},
   "outputs": [],
   "source": [
    "#array info data\n",
    "ai_run_array_direction = [x['run_array_direction'] for x in data_ainfo.iterrows()]\n",
    "ai_tel_id = [x['tel_id'] for x in data_ainfo.iterrows()]\n",
    "ai_tel_type = [x['tel_type'] for x in data_ainfo.iterrows()]\n",
    "ai_tel_x = [x['tel_x'] for x in data_ainfo.iterrows()]\n",
    "ai_tel_y = [x['tel_y'] for x in data_ainfo.iterrows()]\n",
    "ai_tel_z = [x['tel_z'] for x in data_ainfo.iterrows()]\n",
    "\n",
    "#event info data\n",
    "ei_alt = [x['alt'] for x in data_einfo.iterrows()]\n",
    "ei_az = [x['az'] for x in data_einfo.iterrows()]\n",
    "ei_core_x = [x['core_x'] for x in data_einfo.iterrows()]\n",
    "ei_core_y = [x['core_y'] for x in data_einfo.iterrows()]\n",
    "ei_event_number = [x['event_number'] for x in data_einfo.iterrows()]\n",
    "ei_h_first_int = [x['h_first_int'] for x in data_einfo.iterrows()]\n",
    "ei_mc_energy = [x['mc_energy'] for x in data_einfo.iterrows()]\n",
    "ei_particle_id = [x['particle_id'] for x in data_einfo.iterrows()]\n",
    "ei_run_number = [x['run_number'] for x in data_einfo.iterrows()]\n",
    "ei_LST_indices = [x['LST_indices'] for x in data_einfo.iterrows()]\n",
    "\n",
    "#LST data\n",
    "LST_event_index=[x['event_index'] for x in data_LST.iterrows()]\n",
    "LST_image_charge=[x['image_charge'] for x in data_LST.iterrows()]\n",
    "LST_image_peak_times=[x['image_peak_times'] for x in data_LST.iterrows()]"
   ]
  },
  {
   "cell_type": "code",
   "execution_count": 173,
   "metadata": {},
   "outputs": [
    {
     "data": {
      "image/png": "[encoded data removed]",
      "text/plain": [
       "<Figure size 720x720 with 1 Axes>"
      ]
     },
     "metadata": {
      "needs_background": "light"
     },
     "output_type": "display_data"
    }
   ],
   "source": [
    "# array of telescopes\n",
    "\n",
    "tel_types=['LST','MSTS','SSTC']\n",
    "\n",
    "arr_table=data_ainfo\n",
    "\n",
    "fig, ax = plt.subplots(figsize=(10,10))\n",
    "\n",
    "for tel_type in tel_types:\n",
    "    tel_x = [x['tel_x'] for x in arr_table.iterrows() if x['tel_type'] == tel_type.encode('ascii')]\n",
    "    tel_y = [x['tel_y'] for x in arr_table.iterrows() if x['tel_type'] == tel_type.encode('ascii')]\n",
    "    plt.scatter(tel_x, tel_y, label=tel_type)\n",
    "    \n",
    "ax.legend()\n",
    "ax.grid()\n",
    "plt.show()"
   ]
  },
  {
   "cell_type": "code",
   "execution_count": 183,
   "metadata": {},
   "outputs": [
    {
     "name": "stdout",
     "output_type": "stream",
     "text": [
      "[1, 2, 3, 4]\n"
     ]
    }
   ],
   "source": [
    "tel_type = 'LST'\n",
    "tel_ids = [x['tel_id'] for x in data_ainfo.iterrows() if x['tel_type'] == tel_type.encode('ascii')]\n",
    "print(tel_ids)"
   ]
  },
  {
   "cell_type": "code",
   "execution_count": 163,
   "metadata": {},
   "outputs": [
    {
     "name": "stdout",
     "output_type": "stream",
     "text": [
      "Event number: 494209\n",
      "Energy: 0.5507442951202393 TeV\n",
      "Alt: 1.2068253755569458 rad\n",
      "Az: 0.18052926659584045 rad\n",
      "LST_indices: [ 0 28 29  0]\n"
     ]
    }
   ],
   "source": [
    "event_index = 44\n",
    "my_event = data_einfo[event_index]\n",
    "print('Event number: {}'.format(my_event['event_number']))\n",
    "print('Energy: {} TeV'.format(my_event['mc_energy']))\n",
    "print('Alt: {} rad'.format(my_event['alt']))\n",
    "print('Az: {} rad'.format(my_event['az']))\n",
    "my_indices = my_event['LST_indices']\n",
    "print('LST_indices: ' + str(my_indices))"
   ]
  },
  {
   "cell_type": "code",
   "execution_count": 178,
   "metadata": {
    "scrolled": true
   },
   "outputs": [
    {
     "name": "stdout",
     "output_type": "stream",
     "text": [
      "[-0.90368205 -0.1790721  -1.0608552  ... -0.72692055  0.37860617\n",
      "  3.2084312 ]\n",
      "[ 7.  8.  1. ... 18.  6.  6.]\n",
      "[-0.9147726  -1.9080521  -2.6048093  ... -0.8277344  -0.6274846\n",
      " -0.51985115]\n",
      "[24.  5. 23. ...  6.  6. 27.]\n"
     ]
    }
   ],
   "source": [
    "for img_index in my_indices:\n",
    "    if img_index > 0:\n",
    "        img_charge = LST_image_charge[img_index]\n",
    "        img_time = LST_image_peak_times[img_index]\n",
    "        print(img_charge)\n",
    "        print(img_time)"
   ]
  }
 ],
 "metadata": {
  "kernelspec": {
   "display_name": "Python 3",
   "language": "python",
   "name": "python3"
  },
  "language_info": {
   "codemirror_mode": {
    "name": "ipython",
    "version": 3
   },
   "file_extension": ".py",
   "mimetype": "text/x-python",
   "name": "python",
   "nbconvert_exporter": "python",
   "pygments_lexer": "ipython3",
   "version": "3.6.6"
  }
 },
 "nbformat": 4,
 "nbformat_minor": 2
}
